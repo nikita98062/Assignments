{
  "nbformat": 4,
  "nbformat_minor": 0,
  "metadata": {
    "colab": {
      "provenance": []
    },
    "kernelspec": {
      "name": "python3",
      "display_name": "Python 3"
    },
    "language_info": {
      "name": "python"
    }
  },
  "cells": [
    {
      "cell_type": "markdown",
      "source": [
        "# **1. State the Hypotheses statement:**"
      ],
      "metadata": {
        "id": "EAKQGe_XiloO"
      }
    },
    {
      "cell_type": "markdown",
      "source": [
        "# ***Null Hypothesis (H₀): ***The weekly operating cost is equal to the cost suggested by the model.\n"
      ],
      "metadata": {
        "id": "3gk-ZmJdiqn_"
      }
    },
    {
      "cell_type": "markdown",
      "source": [
        "# H0:μ=1,000+5×600=4,000 Rs."
      ],
      "metadata": {
        "id": "QCl6ceQSm0CG"
      }
    },
    {
      "cell_type": "markdown",
      "source": [
        "# ***Alternative Hypothesis (H₁): ***The weekly operating cost is higher than the cost suggested by the model."
      ],
      "metadata": {
        "id": "guDG_4iBm-N9"
      }
    },
    {
      "cell_type": "markdown",
      "source": [
        "# H1:μ>4,000 Rs."
      ],
      "metadata": {
        "id": "4rz4qwbYnHfo"
      }
    },
    {
      "cell_type": "markdown",
      "source": [
        "This will be a one-tailed test, as we are only testing whether the costs are higher than expected."
      ],
      "metadata": {
        "id": "-vYSAmaCnTvR"
      }
    },
    {
      "cell_type": "markdown",
      "source": [
        "# **2. Calculate the Test Statistic:**"
      ],
      "metadata": {
        "id": "U1DIEg29nYmy"
      }
    },
    {
      "cell_type": "code",
      "execution_count": 3,
      "metadata": {
        "id": "i2uPp5_Jibd_"
      },
      "outputs": [],
      "source": [
        "#Given the data\n",
        "\n",
        "# Sample mean weekly cost in Rs.\n",
        "sample_mean=3050\n",
        "\n",
        "# Theoretical weekly cost according to the model\n",
        "theoretical_mean = 1000 + 5 * 600\n",
        "\n",
        "# Standard deviation\n",
        "sigma = 5 * 25\n",
        "\n",
        "# Sample size\n",
        "n = 25\n",
        "\n",
        " # Significance level\n",
        "alpha = 0.05"
      ]
    },
    {
      "cell_type": "code",
      "source": [
        "import math\n",
        "from scipy import stats"
      ],
      "metadata": {
        "id": "n1tukrGConul"
      },
      "execution_count": 4,
      "outputs": []
    },
    {
      "cell_type": "code",
      "source": [
        "standard_error = sigma / math.sqrt(n)\n",
        "print('standard Error :',standard_error)"
      ],
      "metadata": {
        "colab": {
          "base_uri": "https://localhost:8080/"
        },
        "id": "6Y1u89Rgor5S",
        "outputId": "7aeda181-a2a1-491c-d7cb-e405b0c18b83"
      },
      "execution_count": 9,
      "outputs": [
        {
          "output_type": "stream",
          "name": "stdout",
          "text": [
            "standard Error : 25.0\n"
          ]
        }
      ]
    },
    {
      "cell_type": "markdown",
      "source": [
        "# Here calculate the t-value"
      ],
      "metadata": {
        "id": "YgT2rVFxtTTX"
      }
    },
    {
      "cell_type": "code",
      "source": [
        "test_statistic = (sample_mean - theoretical_mean) / standard_error\n",
        "print('Test_Statistics :',test_statistic)"
      ],
      "metadata": {
        "colab": {
          "base_uri": "https://localhost:8080/"
        },
        "id": "6A76i-p8tFli",
        "outputId": "e9670f15-032e-4925-cf37-a2a6f544473d"
      },
      "execution_count": 10,
      "outputs": [
        {
          "output_type": "stream",
          "name": "stdout",
          "text": [
            "Test_Statistics : -38.0\n"
          ]
        }
      ]
    },
    {
      "cell_type": "markdown",
      "source": [
        "# **3. Determine the Critical Value:**"
      ],
      "metadata": {
        "id": "xyJNxIf-yUhb"
      }
    },
    {
      "cell_type": "markdown",
      "source": [
        "# Determine the critical value for a one-tailed test with alpha = 0.05"
      ],
      "metadata": {
        "id": "mJq97XyhybW6"
      }
    },
    {
      "cell_type": "code",
      "source": [
        "# Z-critical value for a one-tailed test\n",
        "critical_value = stats.norm.ppf(1 - alpha)\n",
        "print('Z-critical value for a one tailed test :',critical_value)"
      ],
      "metadata": {
        "colab": {
          "base_uri": "https://localhost:8080/"
        },
        "id": "SnrQfJfEtZBI",
        "outputId": "bbe2f53e-a48d-493c-d0a6-15fbdc08c5f8"
      },
      "execution_count": 11,
      "outputs": [
        {
          "output_type": "stream",
          "name": "stdout",
          "text": [
            "Z-critical value for a one tailed test : 1.6448536269514722\n"
          ]
        }
      ]
    },
    {
      "cell_type": "markdown",
      "source": [
        "# **4. Make a Decision:**"
      ],
      "metadata": {
        "id": "wZcQbIwVzxWi"
      }
    },
    {
      "cell_type": "markdown",
      "source": [
        "# Compare the test statistic with the critical value to decide whether to reject the null hypothesis."
      ],
      "metadata": {
        "id": "7QcBt55qz2Da"
      }
    },
    {
      "cell_type": "code",
      "source": [
        "reject_null = test_statistic > critical_value\n",
        "print('Reject Null :',reject_null)"
      ],
      "metadata": {
        "colab": {
          "base_uri": "https://localhost:8080/"
        },
        "id": "cXAWIpPqyOfU",
        "outputId": "f2888196-b870-4151-b9eb-93795fa1a842"
      },
      "execution_count": 12,
      "outputs": [
        {
          "output_type": "stream",
          "name": "stdout",
          "text": [
            "Reject Null : False\n"
          ]
        }
      ]
    },
    {
      "cell_type": "code",
      "source": [
        "print(f\"Reject the null hypothesis is :- {'Yes' if reject_null else 'No'}\")"
      ],
      "metadata": {
        "colab": {
          "base_uri": "https://localhost:8080/"
        },
        "id": "JHDItsBC0htT",
        "outputId": "3de9a24e-763c-48ef-d44a-246f32f5e384"
      },
      "execution_count": 15,
      "outputs": [
        {
          "output_type": "stream",
          "name": "stdout",
          "text": [
            "Reject the null hypothesis is :- No\n"
          ]
        }
      ]
    },
    {
      "cell_type": "code",
      "source": [],
      "metadata": {
        "id": "DBbt6-qS0o3t"
      },
      "execution_count": null,
      "outputs": []
    }
  ]
}