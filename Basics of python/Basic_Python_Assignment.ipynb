{
  "nbformat": 4,
  "nbformat_minor": 0,
  "metadata": {
    "colab": {
      "provenance": []
    },
    "kernelspec": {
      "name": "python3",
      "display_name": "Python 3"
    },
    "language_info": {
      "name": "python"
    }
  },
  "cells": [
    {
      "cell_type": "markdown",
      "source": [
        "# Exercise 1: Prime Numbers"
      ],
      "metadata": {
        "id": "K9_Zg40lTG9l"
      }
    },
    {
      "cell_type": "code",
      "source": [
        "n=int(input('enter a number '))\n",
        "if n>1:\n",
        "  for i in range(2,(n//2)+1):\n",
        "    if(n%i)==0:\n",
        "      print(n,'it is not prime number')\n",
        "      break\n",
        "  else:\n",
        "    print(n,'it is a prime number')\n",
        "else:\n",
        "  print(n,'it is not prime number')\n",
        "\n"
      ],
      "metadata": {
        "colab": {
          "base_uri": "https://localhost:8080/"
        },
        "id": "syVVglbmTKJN",
        "outputId": "0e1f8712-c33f-476d-bb71-3e4f7c897fa8"
      },
      "execution_count": null,
      "outputs": [
        {
          "output_type": "stream",
          "name": "stdout",
          "text": [
            "enter a number -7\n",
            "-7 it is not prime number\n"
          ]
        }
      ]
    },
    {
      "cell_type": "markdown",
      "source": [
        "# Exercise 2: Product of Random Numbers"
      ],
      "metadata": {
        "id": "NpTHNA9nXp_t"
      }
    },
    {
      "cell_type": "code",
      "source": [
        "import numpy as np"
      ],
      "metadata": {
        "id": "bv7cdaX7XGin"
      },
      "execution_count": null,
      "outputs": []
    },
    {
      "cell_type": "code",
      "source": [
        "num1=np.random.randint(1,10)\n",
        "num2=np.random.randint(1,10)\n",
        "print(num1,'it is a first number')\n",
        "print(num2,'it is a second number')\n",
        "product=num1*num2\n",
        "print(product,'it is a multiply the num1 and num2')\n",
        "user_answer=int(input(f'{num1}*{num2} '))\n",
        "if user_answer==product:\n",
        "  print('it is a correct multiply answer')\n",
        "else:\n",
        "  print('it is a incorrect answer')"
      ],
      "metadata": {
        "colab": {
          "base_uri": "https://localhost:8080/"
        },
        "id": "acpE_cc-aslT",
        "outputId": "1f30f0b3-397a-4295-c54d-3faf4b07cdc5"
      },
      "execution_count": null,
      "outputs": [
        {
          "output_type": "stream",
          "name": "stdout",
          "text": [
            "3 it is a first number\n",
            "8 it is a second number\n",
            "24 it is a multiply the num1 and num2\n",
            "3*8 24\n",
            "it is a correct multiply answer\n"
          ]
        }
      ]
    },
    {
      "cell_type": "markdown",
      "source": [
        "# Exercise 3: Squares of Even/Odd Numbers"
      ],
      "metadata": {
        "id": "WFCGMpB-cfk0"
      }
    },
    {
      "cell_type": "code",
      "source": [
        "#square of even numbers\n",
        "number=100\n",
        "for i in range(100,200):\n",
        "  if i%2==0:\n",
        "    square=i**2\n",
        "    print('The square of',i , 'is' , square)"
      ],
      "metadata": {
        "colab": {
          "base_uri": "https://localhost:8080/"
        },
        "id": "zZgkFmpNcLXE",
        "outputId": "f23677b5-e2d0-48b5-a8e2-ba67532a25c8"
      },
      "execution_count": null,
      "outputs": [
        {
          "output_type": "stream",
          "name": "stdout",
          "text": [
            "The square of 100 is 10000\n",
            "The square of 102 is 10404\n",
            "The square of 104 is 10816\n",
            "The square of 106 is 11236\n",
            "The square of 108 is 11664\n",
            "The square of 110 is 12100\n",
            "The square of 112 is 12544\n",
            "The square of 114 is 12996\n",
            "The square of 116 is 13456\n",
            "The square of 118 is 13924\n",
            "The square of 120 is 14400\n",
            "The square of 122 is 14884\n",
            "The square of 124 is 15376\n",
            "The square of 126 is 15876\n",
            "The square of 128 is 16384\n",
            "The square of 130 is 16900\n",
            "The square of 132 is 17424\n",
            "The square of 134 is 17956\n",
            "The square of 136 is 18496\n",
            "The square of 138 is 19044\n",
            "The square of 140 is 19600\n",
            "The square of 142 is 20164\n",
            "The square of 144 is 20736\n",
            "The square of 146 is 21316\n",
            "The square of 148 is 21904\n",
            "The square of 150 is 22500\n",
            "The square of 152 is 23104\n",
            "The square of 154 is 23716\n",
            "The square of 156 is 24336\n",
            "The square of 158 is 24964\n",
            "The square of 160 is 25600\n",
            "The square of 162 is 26244\n",
            "The square of 164 is 26896\n",
            "The square of 166 is 27556\n",
            "The square of 168 is 28224\n",
            "The square of 170 is 28900\n",
            "The square of 172 is 29584\n",
            "The square of 174 is 30276\n",
            "The square of 176 is 30976\n",
            "The square of 178 is 31684\n",
            "The square of 180 is 32400\n",
            "The square of 182 is 33124\n",
            "The square of 184 is 33856\n",
            "The square of 186 is 34596\n",
            "The square of 188 is 35344\n",
            "The square of 190 is 36100\n",
            "The square of 192 is 36864\n",
            "The square of 194 is 37636\n",
            "The square of 196 is 38416\n",
            "The square of 198 is 39204\n"
          ]
        }
      ]
    },
    {
      "cell_type": "code",
      "source": [
        "#square of odd numbers\n",
        "number=100\n",
        "for i in range(100,200):\n",
        "  if i%2!=0:\n",
        "    square=i**2\n",
        "    print('The square of', i , 'is' , square)"
      ],
      "metadata": {
        "colab": {
          "base_uri": "https://localhost:8080/"
        },
        "id": "i9uhbw3adldY",
        "outputId": "7478eb1f-06d9-4cab-d5a9-d2df223b6107"
      },
      "execution_count": null,
      "outputs": [
        {
          "output_type": "stream",
          "name": "stdout",
          "text": [
            "The square of 101 is 10201\n",
            "The square of 103 is 10609\n",
            "The square of 105 is 11025\n",
            "The square of 107 is 11449\n",
            "The square of 109 is 11881\n",
            "The square of 111 is 12321\n",
            "The square of 113 is 12769\n",
            "The square of 115 is 13225\n",
            "The square of 117 is 13689\n",
            "The square of 119 is 14161\n",
            "The square of 121 is 14641\n",
            "The square of 123 is 15129\n",
            "The square of 125 is 15625\n",
            "The square of 127 is 16129\n",
            "The square of 129 is 16641\n",
            "The square of 131 is 17161\n",
            "The square of 133 is 17689\n",
            "The square of 135 is 18225\n",
            "The square of 137 is 18769\n",
            "The square of 139 is 19321\n",
            "The square of 141 is 19881\n",
            "The square of 143 is 20449\n",
            "The square of 145 is 21025\n",
            "The square of 147 is 21609\n",
            "The square of 149 is 22201\n",
            "The square of 151 is 22801\n",
            "The square of 153 is 23409\n",
            "The square of 155 is 24025\n",
            "The square of 157 is 24649\n",
            "The square of 159 is 25281\n",
            "The square of 161 is 25921\n",
            "The square of 163 is 26569\n",
            "The square of 165 is 27225\n",
            "The square of 167 is 27889\n",
            "The square of 169 is 28561\n",
            "The square of 171 is 29241\n",
            "The square of 173 is 29929\n",
            "The square of 175 is 30625\n",
            "The square of 177 is 31329\n",
            "The square of 179 is 32041\n",
            "The square of 181 is 32761\n",
            "The square of 183 is 33489\n",
            "The square of 185 is 34225\n",
            "The square of 187 is 34969\n",
            "The square of 189 is 35721\n",
            "The square of 191 is 36481\n",
            "The square of 193 is 37249\n",
            "The square of 195 is 38025\n",
            "The square of 197 is 38809\n",
            "The square of 199 is 39601\n"
          ]
        }
      ]
    },
    {
      "cell_type": "markdown",
      "source": [
        "# Exercise 4: Word counter"
      ],
      "metadata": {
        "id": "HgzyEe-XfDOr"
      }
    },
    {
      "cell_type": "code",
      "source": [
        "input_text='This is a sample text. This text will be used to demonstrate the word counter.'\n",
        "words=input_text.lower().split()\n",
        "print('text is split and convert into lower case',words)\n",
        "print('------------------------')\n",
        "word_count={}\n",
        "for w in words:\n",
        "  w=w.strip('.')\n",
        "  print('strip text is:-',w)\n",
        "  print('------------------------')\n",
        "  if w in word_count:\n",
        "    word_count[w]+=1\n",
        "  else:\n",
        "    word_count[w]=1\n",
        "for w,count in word_count.items():\n",
        "  print(f\"'{w}','{count}'\")"
      ],
      "metadata": {
        "colab": {
          "base_uri": "https://localhost:8080/"
        },
        "id": "h-cATxThfBnp",
        "outputId": "9c66f2fb-d9e9-455f-d260-e55db0275bad"
      },
      "execution_count": null,
      "outputs": [
        {
          "output_type": "stream",
          "name": "stdout",
          "text": [
            "text is split and convert into lower case ['this', 'is', 'a', 'sample', 'text.', 'this', 'text', 'will', 'be', 'used', 'to', 'demonstrate', 'the', 'word', 'counter.']\n",
            "------------------------\n",
            "strip text is:- this\n",
            "------------------------\n",
            "strip text is:- is\n",
            "------------------------\n",
            "strip text is:- a\n",
            "------------------------\n",
            "strip text is:- sample\n",
            "------------------------\n",
            "strip text is:- text\n",
            "------------------------\n",
            "strip text is:- this\n",
            "------------------------\n",
            "strip text is:- text\n",
            "------------------------\n",
            "strip text is:- will\n",
            "------------------------\n",
            "strip text is:- be\n",
            "------------------------\n",
            "strip text is:- used\n",
            "------------------------\n",
            "strip text is:- to\n",
            "------------------------\n",
            "strip text is:- demonstrate\n",
            "------------------------\n",
            "strip text is:- the\n",
            "------------------------\n",
            "strip text is:- word\n",
            "------------------------\n",
            "strip text is:- counter\n",
            "------------------------\n",
            "'this','2'\n",
            "'is','1'\n",
            "'a','1'\n",
            "'sample','1'\n",
            "'text','2'\n",
            "'will','1'\n",
            "'be','1'\n",
            "'used','1'\n",
            "'to','1'\n",
            "'demonstrate','1'\n",
            "'the','1'\n",
            "'word','1'\n",
            "'counter','1'\n"
          ]
        }
      ]
    },
    {
      "cell_type": "markdown",
      "source": [
        "# Exercise 5: Check for Palindrome"
      ],
      "metadata": {
        "id": "hDpcB7F6mnNm"
      }
    },
    {
      "cell_type": "code",
      "source": [
        "def is_pallindrome(input_string):\n",
        "  if input_string==input_string[::-1]:\n",
        "    return True\n",
        "  else:\n",
        "    return False\n",
        "input_string='racecar'\n",
        "print(is_pallindrome(input_string))"
      ],
      "metadata": {
        "colab": {
          "base_uri": "https://localhost:8080/"
        },
        "id": "rnNJ9MF-s3-m",
        "outputId": "b3ca63fb-fda5-4235-8694-6ff5870b153d"
      },
      "execution_count": null,
      "outputs": [
        {
          "output_type": "stream",
          "name": "stdout",
          "text": [
            "True\n"
          ]
        }
      ]
    },
    {
      "cell_type": "code",
      "source": [],
      "metadata": {
        "id": "keGr7HPtvVAK"
      },
      "execution_count": null,
      "outputs": []
    }
  ]
}