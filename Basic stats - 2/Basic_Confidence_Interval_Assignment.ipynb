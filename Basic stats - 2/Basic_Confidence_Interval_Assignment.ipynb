{
  "nbformat": 4,
  "nbformat_minor": 0,
  "metadata": {
    "colab": {
      "provenance": []
    },
    "kernelspec": {
      "name": "python3",
      "display_name": "Python 3"
    },
    "language_info": {
      "name": "python"
    }
  },
  "cells": [
    {
      "cell_type": "markdown",
      "source": [
        "# ***First we import the python library from scientific computation library we import the stats ***"
      ],
      "metadata": {
        "id": "Kd5eSqbarpQg"
      }
    },
    {
      "cell_type": "code",
      "source": [
        "import numpy as np\n",
        "import pandas as pd\n",
        "from scipy import stats"
      ],
      "metadata": {
        "id": "NbrxO2fsrtSa"
      },
      "execution_count": 43,
      "outputs": []
    },
    {
      "cell_type": "markdown",
      "source": [
        "# **Given the data is below**"
      ],
      "metadata": {
        "id": "tuQx8G7TsAil"
      }
    },
    {
      "cell_type": "code",
      "source": [
        "df =[1.13, 1.55, 1.43, 0.92, 1.25, 1.36, 1.32, 0.85, 1.07, 1.48, 1.20, 1.33, 1.18, 1.22, 1.29]\n",
        "df"
      ],
      "metadata": {
        "colab": {
          "base_uri": "https://localhost:8080/"
        },
        "id": "azFhBwP_r0wR",
        "outputId": "0cb007ae-3771-42b5-981c-acb304ac6bbd"
      },
      "execution_count": 44,
      "outputs": [
        {
          "output_type": "execute_result",
          "data": {
            "text/plain": [
              "[1.13,\n",
              " 1.55,\n",
              " 1.43,\n",
              " 0.92,\n",
              " 1.25,\n",
              " 1.36,\n",
              " 1.32,\n",
              " 0.85,\n",
              " 1.07,\n",
              " 1.48,\n",
              " 1.2,\n",
              " 1.33,\n",
              " 1.18,\n",
              " 1.22,\n",
              " 1.29]"
            ]
          },
          "metadata": {},
          "execution_count": 44
        }
      ]
    },
    {
      "cell_type": "code",
      "source": [
        "n=len(df)"
      ],
      "metadata": {
        "id": "y8SqNEx_sRje"
      },
      "execution_count": 45,
      "outputs": []
    },
    {
      "cell_type": "code",
      "source": [
        "n"
      ],
      "metadata": {
        "id": "WmUX1cjosucO",
        "outputId": "6bb04df0-cd80-4ae4-b7da-52a75812895c",
        "colab": {
          "base_uri": "https://localhost:8080/"
        }
      },
      "execution_count": 46,
      "outputs": [
        {
          "output_type": "execute_result",
          "data": {
            "text/plain": [
              "15"
            ]
          },
          "metadata": {},
          "execution_count": 46
        }
      ]
    },
    {
      "cell_type": "markdown",
      "source": [
        "# **Task a. Build 99% Confidence Interval Using Sample Standard Deviation**"
      ],
      "metadata": {
        "id": "h2FnPljsv2qP"
      }
    },
    {
      "cell_type": "markdown",
      "source": [
        "# **and we calculated the sample mean**"
      ],
      "metadata": {
        "id": "spT5elpqv5nQ"
      }
    },
    {
      "cell_type": "code",
      "source": [
        "sample_mean=np.mean(df)\n",
        "sample_mean"
      ],
      "metadata": {
        "id": "OT8EfC5Qsv_b",
        "colab": {
          "base_uri": "https://localhost:8080/"
        },
        "outputId": "bcd88b7c-b92e-46e1-e407-5270ce8a84dd"
      },
      "execution_count": 47,
      "outputs": [
        {
          "output_type": "execute_result",
          "data": {
            "text/plain": [
              "1.2386666666666666"
            ]
          },
          "metadata": {},
          "execution_count": 47
        }
      ]
    },
    {
      "cell_type": "markdown",
      "source": [
        "# **And also calculated the sample standard devition**"
      ],
      "metadata": {
        "id": "4arnmNQTwvQN"
      }
    },
    {
      "cell_type": "code",
      "source": [
        "sample_std_dev=np.std(df)\n",
        "sample_std_dev"
      ],
      "metadata": {
        "colab": {
          "base_uri": "https://localhost:8080/"
        },
        "id": "RXXoxJo1whp3",
        "outputId": "85018d10-eca6-4117-ac2b-67fe501a5314"
      },
      "execution_count": 48,
      "outputs": [
        {
          "output_type": "execute_result",
          "data": {
            "text/plain": [
              "0.18661427836285438"
            ]
          },
          "metadata": {},
          "execution_count": 48
        }
      ]
    },
    {
      "cell_type": "markdown",
      "source": [
        "# **And we find the degrees of freedom it means the total number of the data it minus 1**"
      ],
      "metadata": {
        "id": "xkmCyqrrxDoy"
      }
    },
    {
      "cell_type": "code",
      "source": [
        "d_f=n-1\n",
        "d_f"
      ],
      "metadata": {
        "colab": {
          "base_uri": "https://localhost:8080/"
        },
        "id": "-gKDPQ7ZxBHm",
        "outputId": "bf670ed1-4545-4aa7-9c6b-d22c0f60861a"
      },
      "execution_count": 49,
      "outputs": [
        {
          "output_type": "execute_result",
          "data": {
            "text/plain": [
              "14"
            ]
          },
          "metadata": {},
          "execution_count": 49
        }
      ]
    },
    {
      "cell_type": "markdown",
      "source": [
        "# **here we calculate the critical value from t-distribution for 99% confidence leve**"
      ],
      "metadata": {
        "id": "4iA9VX4zxa8g"
      }
    },
    {
      "cell_type": "code",
      "source": [
        "t_critical=stats.t.ppf(0.99,df)\n",
        "t_critical"
      ],
      "metadata": {
        "id": "HpA1EMBUxUJb",
        "colab": {
          "base_uri": "https://localhost:8080/"
        },
        "outputId": "0cd92c1e-8bb2-40d4-86cf-414dab2278fb"
      },
      "execution_count": 50,
      "outputs": [
        {
          "output_type": "execute_result",
          "data": {
            "text/plain": [
              "array([21.94662127, 10.50880338, 12.3427023 , 42.38558208, 16.79511416,\n",
              "       13.76211214, 14.73193776, 57.19127574, 25.73013743, 11.50096869,\n",
              "       18.63962698, 14.47696936, 19.48701023, 17.85814436, 15.5526357 ])"
            ]
          },
          "metadata": {},
          "execution_count": 50
        }
      ]
    },
    {
      "cell_type": "markdown",
      "source": [
        "# **here i calculate margin of error**"
      ],
      "metadata": {
        "id": "Ytz8WXFPznBd"
      }
    },
    {
      "cell_type": "code",
      "source": [
        "margin_of_error=t_critical*(sample_std_dev/np.sqrt(n))\n",
        "margin_of_error"
      ],
      "metadata": {
        "colab": {
          "base_uri": "https://localhost:8080/"
        },
        "id": "8n0ebHzAzTrY",
        "outputId": "377e71c4-05c7-4606-8f63-49a16fb75fd5"
      },
      "execution_count": 51,
      "outputs": [
        {
          "output_type": "execute_result",
          "data": {
            "text/plain": [
              "array([1.05746721, 0.50635197, 0.59471582, 2.04228991, 0.80924905,\n",
              "       0.6631081 , 0.70983779, 2.75568152, 1.23977064, 0.55415807,\n",
              "       0.89812432, 0.69755249, 0.9389543 , 0.86046968, 0.74938197])"
            ]
          },
          "metadata": {},
          "execution_count": 51
        }
      ]
    },
    {
      "cell_type": "code",
      "source": [
        "sample_mean-margin_of_error"
      ],
      "metadata": {
        "colab": {
          "base_uri": "https://localhost:8080/"
        },
        "id": "ugLoS5av0QM5",
        "outputId": "2bde3009-c53d-49e7-e53c-92f9c691f1fa"
      },
      "execution_count": 52,
      "outputs": [
        {
          "output_type": "execute_result",
          "data": {
            "text/plain": [
              "array([ 1.81199458e-01,  7.32314694e-01,  6.43950843e-01, -8.03623244e-01,\n",
              "        4.29417613e-01,  5.75558567e-01,  5.28828878e-01, -1.51701486e+00,\n",
              "       -1.10396972e-03,  6.84508597e-01,  3.40542346e-01,  5.41114173e-01,\n",
              "        2.99712370e-01,  3.78196991e-01,  4.89284697e-01])"
            ]
          },
          "metadata": {},
          "execution_count": 52
        }
      ]
    },
    {
      "cell_type": "code",
      "source": [
        "sample_mean+margin_of_error"
      ],
      "metadata": {
        "colab": {
          "base_uri": "https://localhost:8080/"
        },
        "id": "JkEgyjgD0XSN",
        "outputId": "476c9f03-e4c5-4a87-be0d-dc7eee342da4"
      },
      "execution_count": 53,
      "outputs": [
        {
          "output_type": "execute_result",
          "data": {
            "text/plain": [
              "array([2.29613388, 1.74501864, 1.83338249, 3.28095658, 2.04791572,\n",
              "       1.90177477, 1.94850446, 3.99434819, 2.4784373 , 1.79282474,\n",
              "       2.13679099, 1.93621916, 2.17762096, 2.09913634, 1.98804864])"
            ]
          },
          "metadata": {},
          "execution_count": 53
        }
      ]
    },
    {
      "cell_type": "markdown",
      "source": [
        "# **Confidence interval Calculation**"
      ],
      "metadata": {
        "id": "RqdCIow00AR_"
      }
    },
    {
      "cell_type": "code",
      "source": [
        "confidence_interval=(sample_mean-margin_of_error,sample_mean+margin_of_error)\n",
        "confidence_interval"
      ],
      "metadata": {
        "colab": {
          "base_uri": "https://localhost:8080/"
        },
        "id": "JaMo-_Ebzj1f",
        "outputId": "3e52f1c3-2328-40ce-8ce8-ab98cd3529b2"
      },
      "execution_count": 54,
      "outputs": [
        {
          "output_type": "execute_result",
          "data": {
            "text/plain": [
              "(array([ 1.81199458e-01,  7.32314694e-01,  6.43950843e-01, -8.03623244e-01,\n",
              "         4.29417613e-01,  5.75558567e-01,  5.28828878e-01, -1.51701486e+00,\n",
              "        -1.10396972e-03,  6.84508597e-01,  3.40542346e-01,  5.41114173e-01,\n",
              "         2.99712370e-01,  3.78196991e-01,  4.89284697e-01]),\n",
              " array([2.29613388, 1.74501864, 1.83338249, 3.28095658, 2.04791572,\n",
              "        1.90177477, 1.94850446, 3.99434819, 2.4784373 , 1.79282474,\n",
              "        2.13679099, 1.93621916, 2.17762096, 2.09913634, 1.98804864]))"
            ]
          },
          "metadata": {},
          "execution_count": 54
        }
      ]
    },
    {
      "cell_type": "code",
      "source": [
        "print('Task a:--Build 99% Confidence Interval Using Sample Standard Deviation')\n",
        "print('\\n')\n",
        "print('Sample Mean:--',sample_mean)\n",
        "print('\\n')\n",
        "print('Sample standard devition :--',sample_std_dev)\n",
        "print('\\n')\n",
        "print('Confidence Interval:--',confidence_interval)\n",
        "print('\\n')"
      ],
      "metadata": {
        "colab": {
          "base_uri": "https://localhost:8080/"
        },
        "id": "eKOM2b720sMy",
        "outputId": "22643d00-1742-4d31-d2cf-cd4ee9de7c2b"
      },
      "execution_count": 55,
      "outputs": [
        {
          "output_type": "stream",
          "name": "stdout",
          "text": [
            "Task a:--Build 99% Confidence Interval Using Sample Standard Deviation\n",
            "\n",
            "\n",
            "Sample Mean:-- 1.2386666666666666\n",
            "\n",
            "\n",
            "Sample standard devition :-- 0.18661427836285438\n",
            "\n",
            "\n",
            "Confidence Interval:-- (array([ 1.81199458e-01,  7.32314694e-01,  6.43950843e-01, -8.03623244e-01,\n",
            "        4.29417613e-01,  5.75558567e-01,  5.28828878e-01, -1.51701486e+00,\n",
            "       -1.10396972e-03,  6.84508597e-01,  3.40542346e-01,  5.41114173e-01,\n",
            "        2.99712370e-01,  3.78196991e-01,  4.89284697e-01]), array([2.29613388, 1.74501864, 1.83338249, 3.28095658, 2.04791572,\n",
            "       1.90177477, 1.94850446, 3.99434819, 2.4784373 , 1.79282474,\n",
            "       2.13679099, 1.93621916, 2.17762096, 2.09913634, 1.98804864]))\n",
            "\n",
            "\n"
          ]
        }
      ]
    },
    {
      "cell_type": "markdown",
      "source": [
        "# **Task b. Build 99% Confidence Interval Using Known Population Standard Deviation**"
      ],
      "metadata": {
        "id": "wAOYtzV62PKL"
      }
    },
    {
      "cell_type": "markdown",
      "source": [
        "# **Given population standard deviation**"
      ],
      "metadata": {
        "id": "XOWYeOjo3XXr"
      }
    },
    {
      "cell_type": "code",
      "source": [
        "population_std_dev=0.2\n",
        "population_std_dev"
      ],
      "metadata": {
        "id": "c76-N9v71fsp",
        "colab": {
          "base_uri": "https://localhost:8080/"
        },
        "outputId": "65b69953-2e3f-42dc-9e56-e51291ea5175"
      },
      "execution_count": 56,
      "outputs": [
        {
          "output_type": "execute_result",
          "data": {
            "text/plain": [
              "0.2"
            ]
          },
          "metadata": {},
          "execution_count": 56
        }
      ]
    },
    {
      "cell_type": "markdown",
      "source": [
        "# **Critical value from z-distribution for 99% confidence level**"
      ],
      "metadata": {
        "id": "3UJLDl7m3_3z"
      }
    },
    {
      "cell_type": "code",
      "source": [
        "z_critical=stats.norm.ppf(0.99)\n",
        "z_critical"
      ],
      "metadata": {
        "colab": {
          "base_uri": "https://localhost:8080/"
        },
        "id": "Wcpj3CFO32pd",
        "outputId": "953fc7b1-6ef9-47b7-fc67-43ed0e14ba4b"
      },
      "execution_count": 57,
      "outputs": [
        {
          "output_type": "execute_result",
          "data": {
            "text/plain": [
              "2.3263478740408408"
            ]
          },
          "metadata": {},
          "execution_count": 57
        }
      ]
    },
    {
      "cell_type": "code",
      "source": [
        "margin_error=z_critical*(population_std_dev/np.sqrt(n))\n",
        "margin_error"
      ],
      "metadata": {
        "colab": {
          "base_uri": "https://localhost:8080/"
        },
        "id": "jKeYGIaL41ZX",
        "outputId": "dd7eaae2-3ecd-4d67-cdb6-569b9e1bcb95"
      },
      "execution_count": 58,
      "outputs": [
        {
          "output_type": "execute_result",
          "data": {
            "text/plain": [
              "0.12013208764860274"
            ]
          },
          "metadata": {},
          "execution_count": 58
        }
      ]
    },
    {
      "cell_type": "code",
      "source": [
        "sample_mean-margin_error"
      ],
      "metadata": {
        "colab": {
          "base_uri": "https://localhost:8080/"
        },
        "id": "n3IMfUir5WqC",
        "outputId": "7c89ec68-8398-4d59-8497-1fb1eb19c561"
      },
      "execution_count": 59,
      "outputs": [
        {
          "output_type": "execute_result",
          "data": {
            "text/plain": [
              "1.1185345790180639"
            ]
          },
          "metadata": {},
          "execution_count": 59
        }
      ]
    },
    {
      "cell_type": "code",
      "source": [
        "sample_mean+margin_error"
      ],
      "metadata": {
        "colab": {
          "base_uri": "https://localhost:8080/"
        },
        "id": "CSSvF8gp5cb3",
        "outputId": "e5144144-28b4-43e8-ad2d-7998c071e072"
      },
      "execution_count": 60,
      "outputs": [
        {
          "output_type": "execute_result",
          "data": {
            "text/plain": [
              "1.3587987543152693"
            ]
          },
          "metadata": {},
          "execution_count": 60
        }
      ]
    },
    {
      "cell_type": "markdown",
      "source": [
        "# **Confidence Interval Calculation**"
      ],
      "metadata": {
        "id": "9beN0Xpg5p33"
      }
    },
    {
      "cell_type": "code",
      "source": [
        "confidence_i=(sample_mean-margin_error,sample_mean+margin_error)\n",
        "confidence_i"
      ],
      "metadata": {
        "colab": {
          "base_uri": "https://localhost:8080/"
        },
        "id": "eguy6sCy5lyN",
        "outputId": "7fec240f-94a0-4cac-8b02-9bdef7c0810e"
      },
      "execution_count": 61,
      "outputs": [
        {
          "output_type": "execute_result",
          "data": {
            "text/plain": [
              "(1.1185345790180639, 1.3587987543152693)"
            ]
          },
          "metadata": {},
          "execution_count": 61
        }
      ]
    },
    {
      "cell_type": "code",
      "source": [
        "print('Task b. Build 99% Confidence Interval Using Known Population Standard Deviation')\n",
        "print('\\n')\n",
        "print('Sample Mean:--',sample_mean)\n",
        "print('\\n')\n",
        "print('Population Standard Devition:--',population_std_dev)\n",
        "print('\\n')\n",
        "print('Confidence Interval:--',confidence_i)"
      ],
      "metadata": {
        "colab": {
          "base_uri": "https://localhost:8080/"
        },
        "id": "Q5Qog3Zl55Ym",
        "outputId": "4aef5b77-1872-4188-8739-411c2004d18c"
      },
      "execution_count": 62,
      "outputs": [
        {
          "output_type": "stream",
          "name": "stdout",
          "text": [
            "Task b. Build 99% Confidence Interval Using Known Population Standard Deviation\n",
            "\n",
            "\n",
            "Sample Mean:-- 1.2386666666666666\n",
            "\n",
            "\n",
            "Population Standard Devition:-- 0.2\n",
            "\n",
            "\n",
            "Confidence Interval:-- (1.1185345790180639, 1.3587987543152693)\n"
          ]
        }
      ]
    },
    {
      "cell_type": "code",
      "source": [],
      "metadata": {
        "id": "SQzAkAEm6ZV9"
      },
      "execution_count": 62,
      "outputs": []
    }
  ]
}