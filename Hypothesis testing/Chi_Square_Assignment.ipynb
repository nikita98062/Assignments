{
  "nbformat": 4,
  "nbformat_minor": 0,
  "metadata": {
    "colab": {
      "provenance": []
    },
    "kernelspec": {
      "name": "python3",
      "display_name": "Python 3"
    },
    "language_info": {
      "name": "python"
    }
  },
  "cells": [
    {
      "cell_type": "markdown",
      "source": [
        "# ***Import the libraries ***"
      ],
      "metadata": {
        "id": "MZeZz0y3n9-N"
      }
    },
    {
      "cell_type": "code",
      "execution_count": null,
      "metadata": {
        "id": "2l8KftzscNO3"
      },
      "outputs": [],
      "source": [
        "import numpy as np\n",
        "import pandas as pd\n",
        "from scipy import stats\n",
        "from scipy.stats import chi2_contingency"
      ]
    },
    {
      "cell_type": "markdown",
      "source": [
        "# **Here Data provided**"
      ],
      "metadata": {
        "id": "LTYotb3ooZ4U"
      }
    },
    {
      "cell_type": "code",
      "source": [
        "observed_values=np.array([[50,70],\n",
        "                          [80,100],\n",
        "                          [60,90],\n",
        "                          [30,50],\n",
        "                          [20,50]])\n",
        "observed_values"
      ],
      "metadata": {
        "id": "P49PXpTtcf22",
        "colab": {
          "base_uri": "https://localhost:8080/"
        },
        "outputId": "4608c2fc-2c5b-4b92-8c95-d2fbfc057c03"
      },
      "execution_count": null,
      "outputs": [
        {
          "output_type": "execute_result",
          "data": {
            "text/plain": [
              "array([[ 50,  70],\n",
              "       [ 80, 100],\n",
              "       [ 60,  90],\n",
              "       [ 30,  50],\n",
              "       [ 20,  50]])"
            ]
          },
          "metadata": {},
          "execution_count": 9
        }
      ]
    },
    {
      "cell_type": "markdown",
      "source": [
        "# **Here CalCulate Row and Column Totals**"
      ],
      "metadata": {
        "id": "04vBMGbroxCB"
      }
    },
    {
      "cell_type": "code",
      "source": [
        "row_totals=observed_values.sum(axis=1)\n",
        "column_totals=observed_values.sum(axis=0)\n",
        "grand_totals=observed_values.sum()"
      ],
      "metadata": {
        "id": "10DOP_xzfn7b"
      },
      "execution_count": null,
      "outputs": []
    },
    {
      "cell_type": "markdown",
      "source": [
        "# **Here we calculated the expected values**"
      ],
      "metadata": {
        "id": "7r2dluNtpeDn"
      }
    },
    {
      "cell_type": "code",
      "source": [
        "expected_values=np.outer(row_totals,column_totals)/grand_totals"
      ],
      "metadata": {
        "id": "SW838WikfowE"
      },
      "execution_count": null,
      "outputs": []
    },
    {
      "cell_type": "code",
      "source": [
        "expected_values"
      ],
      "metadata": {
        "colab": {
          "base_uri": "https://localhost:8080/"
        },
        "id": "cSZjpGFGfqAD",
        "outputId": "1bc0c7a9-3650-4c31-b6b0-726cb80d1c8d"
      },
      "execution_count": null,
      "outputs": [
        {
          "output_type": "execute_result",
          "data": {
            "text/plain": [
              "array([[ 48.,  72.],\n",
              "       [ 72., 108.],\n",
              "       [ 60.,  90.],\n",
              "       [ 32.,  48.],\n",
              "       [ 28.,  42.]])"
            ]
          },
          "metadata": {},
          "execution_count": 16
        }
      ]
    },
    {
      "cell_type": "markdown",
      "source": [
        "# **State Hypotheses:**"
      ],
      "metadata": {
        "id": "lAKyOi3hqIQj"
      }
    },
    {
      "cell_type": "markdown",
      "source": [
        "1. Null Hypotheses :- there is a no association between the type of smart device and customer satisfication level"
      ],
      "metadata": {
        "id": "mhvYF8YcqObC"
      }
    },
    {
      "cell_type": "markdown",
      "source": [
        "2. Alternative Hypotheses:-There is an association between the type of smart device and customer satisfication"
      ],
      "metadata": {
        "id": "MwwppeRYqrQU"
      }
    },
    {
      "cell_type": "markdown",
      "source": [
        "# **Compute the Chi-Square Statistics:**"
      ],
      "metadata": {
        "id": "Cr-Na56Qq7MU"
      }
    },
    {
      "cell_type": "code",
      "source": [
        "chi_square=((observed_values-expected_values)**2/expected_values)\n",
        "chi_square"
      ],
      "metadata": {
        "colab": {
          "base_uri": "https://localhost:8080/"
        },
        "id": "9n68y4DCp-ll",
        "outputId": "906eb5d8-6744-489b-c044-d364039518e7"
      },
      "execution_count": null,
      "outputs": [
        {
          "output_type": "execute_result",
          "data": {
            "text/plain": [
              "array([[0.08333333, 0.05555556],\n",
              "       [0.88888889, 0.59259259],\n",
              "       [0.        , 0.        ],\n",
              "       [0.125     , 0.08333333],\n",
              "       [2.28571429, 1.52380952]])"
            ]
          },
          "metadata": {},
          "execution_count": 17
        }
      ]
    },
    {
      "cell_type": "code",
      "source": [
        "chi_square.sum()"
      ],
      "metadata": {
        "colab": {
          "base_uri": "https://localhost:8080/"
        },
        "id": "YgJ4MGD9rZ1F",
        "outputId": "e711300c-b6bd-42eb-9406-6a5511b44baf"
      },
      "execution_count": null,
      "outputs": [
        {
          "output_type": "execute_result",
          "data": {
            "text/plain": [
              "5.638227513227513"
            ]
          },
          "metadata": {},
          "execution_count": 18
        }
      ]
    },
    {
      "cell_type": "markdown",
      "source": [
        "# **Here Determine the degrees of freedom**"
      ],
      "metadata": {
        "id": "Cj9-aaAkr2HQ"
      }
    },
    {
      "cell_type": "code",
      "source": [
        "df=(observed_values[0]-1)*(observed_values.shape[1]-1)\n",
        "df"
      ],
      "metadata": {
        "colab": {
          "base_uri": "https://localhost:8080/"
        },
        "id": "2euYTgskrdpu",
        "outputId": "8e73074f-1edc-4ba0-b7f0-977e9b02b59c"
      },
      "execution_count": null,
      "outputs": [
        {
          "output_type": "execute_result",
          "data": {
            "text/plain": [
              "array([49, 69])"
            ]
          },
          "metadata": {},
          "execution_count": 23
        }
      ]
    },
    {
      "cell_type": "markdown",
      "source": [
        "# **Here given the alpha value**\n",
        "# **alpha=0.05**"
      ],
      "metadata": {
        "id": "HBJ12ufUsZyr"
      }
    },
    {
      "cell_type": "code",
      "source": [
        "alpha=0.05\n",
        "critical_value=stats.chi2.ppf(1-alpha,df)\n",
        "critical_value"
      ],
      "metadata": {
        "colab": {
          "base_uri": "https://localhost:8080/"
        },
        "id": "OhE3mmiUrf73",
        "outputId": "5ac0aeb3-8982-4d15-fa32-443827a49160"
      },
      "execution_count": null,
      "outputs": [
        {
          "output_type": "execute_result",
          "data": {
            "text/plain": [
              "array([66.33864886, 89.39120787])"
            ]
          },
          "metadata": {},
          "execution_count": 24
        }
      ]
    },
    {
      "cell_type": "markdown",
      "source": [
        "# **Here calculate the p-value**"
      ],
      "metadata": {
        "id": "cj7Ini1dtK3F"
      }
    },
    {
      "cell_type": "code",
      "source": [
        "p_value=1-stats.chi2.cdf(chi_square,df)\n",
        "p_value"
      ],
      "metadata": {
        "colab": {
          "base_uri": "https://localhost:8080/"
        },
        "id": "Srzk-78ArmVL",
        "outputId": "e1409948-c74b-47ee-8be3-f1cee8b3c2eb"
      },
      "execution_count": null,
      "outputs": [
        {
          "output_type": "execute_result",
          "data": {
            "text/plain": [
              "array([[1., 1.],\n",
              "       [1., 1.],\n",
              "       [1., 1.],\n",
              "       [1., 1.],\n",
              "       [1., 1.]])"
            ]
          },
          "metadata": {},
          "execution_count": 26
        }
      ]
    },
    {
      "cell_type": "markdown",
      "source": [
        "# **Make Decision**"
      ],
      "metadata": {
        "id": "jh2XCwx7tryY"
      }
    },
    {
      "cell_type": "code",
      "source": [
        "if (chi_square > critical_value).any():\n",
        "    print(\"Reject the null hypothesis. There is a significant association between device type and customer satisfaction.\")\n",
        "else:\n",
        "    print(\"Fail to reject the null hypothesis. No significant association between device type and customer satisfaction.\")"
      ],
      "metadata": {
        "colab": {
          "base_uri": "https://localhost:8080/"
        },
        "id": "ThrCxS3itCXb",
        "outputId": "c3afe631-2359-4236-ce3b-00adbaf08b9b"
      },
      "execution_count": null,
      "outputs": [
        {
          "output_type": "stream",
          "name": "stdout",
          "text": [
            "Fail to reject the null hypothesis. No significant association between device type and customer satisfaction.\n"
          ]
        }
      ]
    },
    {
      "cell_type": "code",
      "source": [],
      "metadata": {
        "id": "9nQsDLDLt7LC"
      },
      "execution_count": null,
      "outputs": []
    }
  ]
}